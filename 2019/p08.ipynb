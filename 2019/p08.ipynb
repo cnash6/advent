{
 "cells": [
  {
   "cell_type": "code",
   "execution_count": 25,
   "metadata": {},
   "outputs": [
    {
     "name": "stdout",
     "output_type": "stream",
     "text": [
      "Collecting termcolor\n",
      "  Downloading https://files.pythonhosted.org/packages/8a/48/a76be51647d0eb9f10e2a4511bf3ffb8cc1e6b14e9e4fab46173aa79f981/termcolor-1.1.0.tar.gz\n",
      "Building wheels for collected packages: termcolor\n",
      "  Building wheel for termcolor (setup.py) ... \u001b[?25ldone\n",
      "\u001b[?25h  Stored in directory: /Users/cnash/Library/Caches/pip/wheels/7c/06/54/bc84598ba1daf8f970247f550b175aaaee85f68b4b0c5ab2c6\n",
      "Successfully built termcolor\n",
      "Installing collected packages: termcolor\n",
      "Successfully installed termcolor-1.1.0\n"
     ]
    }
   ],
   "source": [
    "import sys\n",
    "!{sys.executable} -m pip install termcolor"
   ]
  },
  {
   "cell_type": "code",
   "execution_count": 54,
   "metadata": {},
   "outputs": [],
   "source": [
    "def print_image(pixels, width):\n",
    "    for i in range(0, len(pixels), width):\n",
    "        for j in range(width):\n",
    "            if image[i+j] == 0:\n",
    "                cprint('▀', 'grey', 'on_grey', end='')\n",
    "            else:\n",
    "                cprint('▀', 'white', 'on_white', end='')\n",
    "        print()\n",
    "    "
   ]
  },
  {
   "cell_type": "code",
   "execution_count": 56,
   "metadata": {},
   "outputs": [
    {
     "name": "stdout",
     "output_type": "stream",
     "text": [
      "1452\n",
      "\u001b[47m\u001b[37m▀\u001b[0m\u001b[47m\u001b[37m▀\u001b[0m\u001b[47m\u001b[37m▀\u001b[0m\u001b[40m\u001b[30m▀\u001b[0m\u001b[40m\u001b[30m▀\u001b[0m\u001b[47m\u001b[37m▀\u001b[0m\u001b[40m\u001b[30m▀\u001b[0m\u001b[40m\u001b[30m▀\u001b[0m\u001b[47m\u001b[37m▀\u001b[0m\u001b[40m\u001b[30m▀\u001b[0m\u001b[47m\u001b[37m▀\u001b[0m\u001b[47m\u001b[37m▀\u001b[0m\u001b[47m\u001b[37m▀\u001b[0m\u001b[40m\u001b[30m▀\u001b[0m\u001b[40m\u001b[30m▀\u001b[0m\u001b[47m\u001b[37m▀\u001b[0m\u001b[47m\u001b[37m▀\u001b[0m\u001b[47m\u001b[37m▀\u001b[0m\u001b[47m\u001b[37m▀\u001b[0m\u001b[40m\u001b[30m▀\u001b[0m\u001b[47m\u001b[37m▀\u001b[0m\u001b[40m\u001b[30m▀\u001b[0m\u001b[40m\u001b[30m▀\u001b[0m\u001b[47m\u001b[37m▀\u001b[0m\u001b[40m\u001b[30m▀\u001b[0m\n",
      "\u001b[47m\u001b[37m▀\u001b[0m\u001b[40m\u001b[30m▀\u001b[0m\u001b[40m\u001b[30m▀\u001b[0m\u001b[47m\u001b[37m▀\u001b[0m\u001b[40m\u001b[30m▀\u001b[0m\u001b[47m\u001b[37m▀\u001b[0m\u001b[40m\u001b[30m▀\u001b[0m\u001b[40m\u001b[30m▀\u001b[0m\u001b[47m\u001b[37m▀\u001b[0m\u001b[40m\u001b[30m▀\u001b[0m\u001b[47m\u001b[37m▀\u001b[0m\u001b[40m\u001b[30m▀\u001b[0m\u001b[40m\u001b[30m▀\u001b[0m\u001b[47m\u001b[37m▀\u001b[0m\u001b[40m\u001b[30m▀\u001b[0m\u001b[47m\u001b[37m▀\u001b[0m\u001b[40m\u001b[30m▀\u001b[0m\u001b[40m\u001b[30m▀\u001b[0m\u001b[40m\u001b[30m▀\u001b[0m\u001b[40m\u001b[30m▀\u001b[0m\u001b[47m\u001b[37m▀\u001b[0m\u001b[40m\u001b[30m▀\u001b[0m\u001b[40m\u001b[30m▀\u001b[0m\u001b[47m\u001b[37m▀\u001b[0m\u001b[40m\u001b[30m▀\u001b[0m\n",
      "\u001b[47m\u001b[37m▀\u001b[0m\u001b[40m\u001b[30m▀\u001b[0m\u001b[40m\u001b[30m▀\u001b[0m\u001b[47m\u001b[37m▀\u001b[0m\u001b[40m\u001b[30m▀\u001b[0m\u001b[47m\u001b[37m▀\u001b[0m\u001b[47m\u001b[37m▀\u001b[0m\u001b[47m\u001b[37m▀\u001b[0m\u001b[47m\u001b[37m▀\u001b[0m\u001b[40m\u001b[30m▀\u001b[0m\u001b[47m\u001b[37m▀\u001b[0m\u001b[40m\u001b[30m▀\u001b[0m\u001b[40m\u001b[30m▀\u001b[0m\u001b[47m\u001b[37m▀\u001b[0m\u001b[40m\u001b[30m▀\u001b[0m\u001b[47m\u001b[37m▀\u001b[0m\u001b[47m\u001b[37m▀\u001b[0m\u001b[47m\u001b[37m▀\u001b[0m\u001b[40m\u001b[30m▀\u001b[0m\u001b[40m\u001b[30m▀\u001b[0m\u001b[47m\u001b[37m▀\u001b[0m\u001b[40m\u001b[30m▀\u001b[0m\u001b[40m\u001b[30m▀\u001b[0m\u001b[47m\u001b[37m▀\u001b[0m\u001b[40m\u001b[30m▀\u001b[0m\n",
      "\u001b[47m\u001b[37m▀\u001b[0m\u001b[47m\u001b[37m▀\u001b[0m\u001b[47m\u001b[37m▀\u001b[0m\u001b[40m\u001b[30m▀\u001b[0m\u001b[40m\u001b[30m▀\u001b[0m\u001b[47m\u001b[37m▀\u001b[0m\u001b[40m\u001b[30m▀\u001b[0m\u001b[40m\u001b[30m▀\u001b[0m\u001b[47m\u001b[37m▀\u001b[0m\u001b[40m\u001b[30m▀\u001b[0m\u001b[47m\u001b[37m▀\u001b[0m\u001b[47m\u001b[37m▀\u001b[0m\u001b[47m\u001b[37m▀\u001b[0m\u001b[40m\u001b[30m▀\u001b[0m\u001b[40m\u001b[30m▀\u001b[0m\u001b[47m\u001b[37m▀\u001b[0m\u001b[40m\u001b[30m▀\u001b[0m\u001b[40m\u001b[30m▀\u001b[0m\u001b[40m\u001b[30m▀\u001b[0m\u001b[40m\u001b[30m▀\u001b[0m\u001b[47m\u001b[37m▀\u001b[0m\u001b[40m\u001b[30m▀\u001b[0m\u001b[40m\u001b[30m▀\u001b[0m\u001b[47m\u001b[37m▀\u001b[0m\u001b[40m\u001b[30m▀\u001b[0m\n",
      "\u001b[47m\u001b[37m▀\u001b[0m\u001b[40m\u001b[30m▀\u001b[0m\u001b[40m\u001b[30m▀\u001b[0m\u001b[40m\u001b[30m▀\u001b[0m\u001b[40m\u001b[30m▀\u001b[0m\u001b[47m\u001b[37m▀\u001b[0m\u001b[40m\u001b[30m▀\u001b[0m\u001b[40m\u001b[30m▀\u001b[0m\u001b[47m\u001b[37m▀\u001b[0m\u001b[40m\u001b[30m▀\u001b[0m\u001b[47m\u001b[37m▀\u001b[0m\u001b[40m\u001b[30m▀\u001b[0m\u001b[40m\u001b[30m▀\u001b[0m\u001b[40m\u001b[30m▀\u001b[0m\u001b[40m\u001b[30m▀\u001b[0m\u001b[47m\u001b[37m▀\u001b[0m\u001b[40m\u001b[30m▀\u001b[0m\u001b[40m\u001b[30m▀\u001b[0m\u001b[40m\u001b[30m▀\u001b[0m\u001b[40m\u001b[30m▀\u001b[0m\u001b[47m\u001b[37m▀\u001b[0m\u001b[40m\u001b[30m▀\u001b[0m\u001b[40m\u001b[30m▀\u001b[0m\u001b[47m\u001b[37m▀\u001b[0m\u001b[40m\u001b[30m▀\u001b[0m\n",
      "\u001b[47m\u001b[37m▀\u001b[0m\u001b[40m\u001b[30m▀\u001b[0m\u001b[40m\u001b[30m▀\u001b[0m\u001b[40m\u001b[30m▀\u001b[0m\u001b[40m\u001b[30m▀\u001b[0m\u001b[47m\u001b[37m▀\u001b[0m\u001b[40m\u001b[30m▀\u001b[0m\u001b[40m\u001b[30m▀\u001b[0m\u001b[47m\u001b[37m▀\u001b[0m\u001b[40m\u001b[30m▀\u001b[0m\u001b[47m\u001b[37m▀\u001b[0m\u001b[40m\u001b[30m▀\u001b[0m\u001b[40m\u001b[30m▀\u001b[0m\u001b[40m\u001b[30m▀\u001b[0m\u001b[40m\u001b[30m▀\u001b[0m\u001b[47m\u001b[37m▀\u001b[0m\u001b[47m\u001b[37m▀\u001b[0m\u001b[47m\u001b[37m▀\u001b[0m\u001b[47m\u001b[37m▀\u001b[0m\u001b[40m\u001b[30m▀\u001b[0m\u001b[40m\u001b[30m▀\u001b[0m\u001b[47m\u001b[37m▀\u001b[0m\u001b[47m\u001b[37m▀\u001b[0m\u001b[40m\u001b[30m▀\u001b[0m\u001b[40m\u001b[30m▀\u001b[0m\n"
     ]
    }
   ],
   "source": [
    "from termcolor import colored, cprint\n",
    "\n",
    "# Main      \n",
    "f = open('assets/08.txt', 'r')\n",
    "pixels = [int(x) for x in f.read().rstrip()]\n",
    "# pixels = [int(x) for x in '121456721012']\n",
    "\n",
    "X = 25\n",
    "Y = 6\n",
    "\n",
    "# Part 1\n",
    "layers = [pixels[i:i+(X*Y)] for i in range(0, len(pixels), (X*Y))]\n",
    "smallest = sorted(layers, key=lambda l: sum([1 for x in l if x == 0]))[0]\n",
    "print(sum([1 for x in smallest if x == 1]) * sum([1 for x in smallest if x == 2]))\n",
    "\n",
    "# Part 2\n",
    "image = [2 for i in range(X*Y)]\n",
    "for l in layers[::-1]:\n",
    "    for i in range(len(l)):\n",
    "        if l[i] == 1 or l[i] == 0:\n",
    "            image[i] = l[i]\n",
    "          \n",
    "print_image(image, X)\n",
    "\n",
    "\n",
    "        "
   ]
  },
  {
   "cell_type": "code",
   "execution_count": null,
   "metadata": {},
   "outputs": [],
   "source": []
  }
 ],
 "metadata": {
  "kernelspec": {
   "display_name": "Python 3",
   "language": "python",
   "name": "python3"
  },
  "language_info": {
   "codemirror_mode": {
    "name": "ipython",
    "version": 3
   },
   "file_extension": ".py",
   "mimetype": "text/x-python",
   "name": "python",
   "nbconvert_exporter": "python",
   "pygments_lexer": "ipython3",
   "version": "3.7.3"
  }
 },
 "nbformat": 4,
 "nbformat_minor": 2
}

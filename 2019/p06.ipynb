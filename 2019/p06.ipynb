{
 "cells": [
  {
   "cell_type": "code",
   "execution_count": 62,
   "metadata": {},
   "outputs": [],
   "source": [
    "def count_orbits(nodes, node, depth):\n",
    "    return depth + sum([count_orbits(nodes, x, depth+1) for x in nodes[node]])"
   ]
  },
  {
   "cell_type": "code",
   "execution_count": 120,
   "metadata": {},
   "outputs": [],
   "source": [
    "def find_targets(nodes, node, targets, path):  \n",
    "    if set(targets).intersection(set(nodes[node])):\n",
    "        return [path + [node]]\n",
    "    return [j for i in [find_targets(nodes, x, targets, path+[node]) for x in nodes[node]] for j in i]"
   ]
  },
  {
   "cell_type": "code",
   "execution_count": 125,
   "metadata": {},
   "outputs": [
    {
     "name": "stdout",
     "output_type": "stream",
     "text": [
      "245089\n",
      "511\n"
     ]
    }
   ],
   "source": [
    "from collections import defaultdict\n",
    "\n",
    "# Main      \n",
    "f = open('assets/06.txt', 'r')\n",
    "orbits = [tuple(x.rstrip().split(')')) for x in f]\n",
    "\n",
    "nodes = defaultdict(list)\n",
    "\n",
    "for orbit in orbits:\n",
    "    nodes[orbit[0]].append(orbit[1])\n",
    "\n",
    "# Part 1\n",
    "print(count_orbits(nodes, \"COM\", 0))\n",
    "\n",
    "# Part 2\n",
    "paths = find_targets(nodes, \"COM\", [\"YOU\",\"SAN\"], [])\n",
    "if len(paths) == 2:\n",
    "    print(sum([len(x) for x in paths]) - 2 * len(set.intersection(*[set(x) for x in paths])))\n",
    "else:\n",
    "    print(\"well that didn't work\")\n"
   ]
  },
  {
   "cell_type": "code",
   "execution_count": null,
   "metadata": {},
   "outputs": [],
   "source": []
  }
 ],
 "metadata": {
  "kernelspec": {
   "display_name": "Python 3",
   "language": "python",
   "name": "python3"
  },
  "language_info": {
   "codemirror_mode": {
    "name": "ipython",
    "version": 3
   },
   "file_extension": ".py",
   "mimetype": "text/x-python",
   "name": "python",
   "nbconvert_exporter": "python",
   "pygments_lexer": "ipython3",
   "version": "3.7.3"
  }
 },
 "nbformat": 4,
 "nbformat_minor": 2
}

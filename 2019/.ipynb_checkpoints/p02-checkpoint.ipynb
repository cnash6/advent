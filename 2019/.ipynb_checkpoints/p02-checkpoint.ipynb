{
 "cells": [
  {
   "cell_type": "code",
   "execution_count": 25,
   "metadata": {},
   "outputs": [],
   "source": [
    "def tick(registers, i):\n",
    "    op = registers[i]\n",
    "    if op == 1: # add\n",
    "        registers[registers[i+3]] = registers[registers[i+1]] + registers[registers[i+2]]\n",
    "    elif op == 2: # multiply\n",
    "        registers[registers[i+3]] = registers[registers[i+1]] * registers[registers[i+2]]\n",
    "    elif op == 99: # kill\n",
    "        return registers, False\n",
    "    else:\n",
    "        print('error!')\n",
    "    return registers, True\n",
    "    "
   ]
  },
  {
   "cell_type": "code",
   "execution_count": 22,
   "metadata": {},
   "outputs": [],
   "source": [
    "def run_program(registers):\n",
    "    running = True\n",
    "    i = 0\n",
    "    while(running):\n",
    "        registers, running = tick(registers, i)\n",
    "        i+=4\n",
    "    return registers\n",
    "        \n",
    "        "
   ]
  },
  {
   "cell_type": "code",
   "execution_count": 24,
   "metadata": {},
   "outputs": [
    {
     "name": "stdout",
     "output_type": "stream",
     "text": [
      "[5866714, 12, 2, 2, 1, 1, 2, 3, 1, 3, 4, 3, 1, 5, 0, 3, 2, 13, 1, 60, 1, 19, 10, 64, 1, 23, 6, 66, 1, 6, 27, 68, 1, 13, 31, 73, 1, 13, 35, 78, 1, 39, 13, 83, 2, 43, 9, 249, 2, 6, 47, 498, 1, 51, 9, 501, 1, 55, 9, 504, 1, 59, 6, 506, 1, 9, 63, 509, 2, 67, 10, 2036, 2, 71, 13, 10180, 1, 10, 75, 10184, 2, 10, 79, 40736, 1, 83, 6, 40738, 2, 87, 10, 162952, 1, 91, 6, 162954, 1, 95, 13, 162959, 1, 99, 13, 162964, 2, 103, 9, 488892, 2, 107, 10, 1955568, 1, 5, 111, 1955569, 2, 115, 9, 5866707, 1, 5, 119, 5866708, 1, 123, 9, 5866711, 1, 127, 2, 5866713, 1, 5, 131, 0, 99, 2, 0, 14, 0]\n"
     ]
    }
   ],
   "source": [
    "# Main\n",
    "f = open('./assets/02.txt', 'r')\n",
    "registers = [int(x) for x in f.read().rstrip().split(',')]\n",
    "\n",
    "\n",
    "#Part 1\n",
    "p1r = registers[:]\n",
    "p1r[1] = 12\n",
    "p1r[2] = 2\n",
    "print(run_program(p1r))\n",
    "\n",
    "#Part 2\n",
    "p2r = registers[:]\n",
    "\n",
    "\n"
   ]
  },
  {
   "cell_type": "code",
   "execution_count": null,
   "metadata": {},
   "outputs": [],
   "source": []
  }
 ],
 "metadata": {
  "kernelspec": {
   "display_name": "Python 3",
   "language": "python",
   "name": "python3"
  },
  "language_info": {
   "codemirror_mode": {
    "name": "ipython",
    "version": 3
   },
   "file_extension": ".py",
   "mimetype": "text/x-python",
   "name": "python",
   "nbconvert_exporter": "python",
   "pygments_lexer": "ipython3",
   "version": "3.7.3"
  }
 },
 "nbformat": 4,
 "nbformat_minor": 2
}

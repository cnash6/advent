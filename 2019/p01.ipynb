{
 "cells": [
  {
   "cell_type": "code",
   "execution_count": 9,
   "metadata": {},
   "outputs": [],
   "source": [
    "def get_fuel_requirement(mass):\n",
    "    return (mass//3)-2"
   ]
  },
  {
   "cell_type": "code",
   "execution_count": 10,
   "metadata": {},
   "outputs": [],
   "source": [
    "def sum_fuel_requirements(masses):\n",
    "    total = 0\n",
    "    for mass in masses:\n",
    "        total+=get_fuel_requirement(mass)\n",
    "    return total"
   ]
  },
  {
   "cell_type": "code",
   "execution_count": 22,
   "metadata": {},
   "outputs": [],
   "source": [
    "def get_recursive_fuel_requirement(mass, total):\n",
    "    new_req = get_fuel_requirement(mass)\n",
    "    if new_req <= 0:\n",
    "        return total\n",
    "    return get_recursive_fuel_requirement(new_req, total+new_req)"
   ]
  },
  {
   "cell_type": "code",
   "execution_count": 26,
   "metadata": {},
   "outputs": [],
   "source": [
    "def sum_recursive(masses):\n",
    "    total = 0\n",
    "    for mass in masses:\n",
    "        total+=get_recursive_fuel_requirement(mass, 0)\n",
    "    return total"
   ]
  },
  {
   "cell_type": "code",
   "execution_count": 27,
   "metadata": {},
   "outputs": [
    {
     "name": "stdout",
     "output_type": "stream",
     "text": [
      "3255932\n",
      "4881041\n"
     ]
    }
   ],
   "source": [
    "# Main\n",
    "f = open('./assets/01.txt', 'r')\n",
    "masses = [int(x.rstrip()) for x in f]\n",
    "\n",
    "#Part 1\n",
    "print(sum_fuel_requirements(masses))\n",
    "\n",
    "#Part 2\n",
    "print(sum_recursive(masses))"
   ]
  },
  {
   "cell_type": "code",
   "execution_count": null,
   "metadata": {},
   "outputs": [],
   "source": []
  }
 ],
 "metadata": {
  "kernelspec": {
   "display_name": "Python 3",
   "language": "python",
   "name": "python3"
  },
  "language_info": {
   "codemirror_mode": {
    "name": "ipython",
    "version": 3
   },
   "file_extension": ".py",
   "mimetype": "text/x-python",
   "name": "python",
   "nbconvert_exporter": "python",
   "pygments_lexer": "ipython3",
   "version": "3.7.3"
  }
 },
 "nbformat": 4,
 "nbformat_minor": 2
}

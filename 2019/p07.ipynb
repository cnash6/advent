{
 "cells": [
  {
   "cell_type": "code",
   "execution_count": 2,
   "metadata": {},
   "outputs": [],
   "source": [
    "def run_computer_with_inputs(state, wire, i, c):\n",
    "    if (i, wire) in c:\n",
    "        return cache.get((i, wire)), c\n",
    "    else:  \n",
    "        comp = Computer(state, [i, wire])\n",
    "        comp.run_program()\n",
    "        if len(comp.outputs) > 2:\n",
    "            print(\"shouldn't happen?\")\n",
    "            print(comp.outputs)\n",
    "        res = comp.outputs[0]\n",
    "        c[(i, wire)] = res\n",
    "        return res, c"
   ]
  },
  {
   "cell_type": "code",
   "execution_count": 28,
   "metadata": {},
   "outputs": [
    {
     "name": "stdout",
     "output_type": "stream",
     "text": [
      "255590\n",
      "58285150\n"
     ]
    }
   ],
   "source": [
    "import itertools\n",
    "\n",
    "%run 'shared/intcode.ipynb'\n",
    "\n",
    "# Main      \n",
    "f = open('assets/07.txt', 'r')\n",
    "intcode = [int(x) for x in f.read().rstrip().split(',')]\n",
    "\n",
    "# Part 1\n",
    "cache = {}\n",
    "largest = 0\n",
    "for y in itertools.permutations([0,1,2,3,4]):\n",
    "    wire = 0\n",
    "    for x in y:\n",
    "        wire, cache = run_computer_with_inputs(intcode[:], wire, x, cache)\n",
    "    if largest < wire:\n",
    "        largest = wire\n",
    "print(largest)\n",
    "\n",
    "     \n",
    "# Part 2\n",
    "largest = 0\n",
    "for x in itertools.permutations([5,6,7,8,9]):\n",
    "    amps = [Computer(intcode[:], [y]) for y in x]\n",
    "    amps[0].inputs.append(0)\n",
    "\n",
    "    while \"KILL\" not in amps[4].outputs:\n",
    "        for i in range(len(amps)):\n",
    "            amps[i].inputs = amps[i].inputs + amps[(i-1)%5].outputs\n",
    "            amps[(i+1)%5].outputs = []\n",
    "            amps[i].tick()\n",
    "\n",
    "    if largest < amps[4].out_log[-1]:\n",
    "        largest = amps[4].out_log[-1]\n",
    "\n",
    "print(largest)\n",
    "\n",
    "    "
   ]
  },
  {
   "cell_type": "code",
   "execution_count": null,
   "metadata": {},
   "outputs": [],
   "source": []
  }
 ],
 "metadata": {
  "kernelspec": {
   "display_name": "Python 3",
   "language": "python",
   "name": "python3"
  }
 },
 "nbformat": 4,
 "nbformat_minor": 2
}

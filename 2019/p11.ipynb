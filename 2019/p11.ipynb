{
 "cells": [
  {
   "cell_type": "code",
   "execution_count": 1,
   "metadata": {},
   "outputs": [],
   "source": [
    "def move_robot(d, x, y, turn):\n",
    "    moves = {\n",
    "        'U': lambda: ('L', x-1, y) if turn == 0 else ('R', x+1, y),\n",
    "        'D': lambda: ('R', x+1, y) if turn == 0 else ('L', x-1, y),\n",
    "        'L': lambda: ('D', x, y-1) if turn == 0 else ('U', x, y+1),\n",
    "        'R': lambda: ('U', x, y+1) if turn == 0 else ('D', x, y-1)\n",
    "    }\n",
    "    return moves[d]()"
   ]
  },
  {
   "cell_type": "code",
   "execution_count": 11,
   "metadata": {},
   "outputs": [],
   "source": [
    "def run_robot(intcode, inputs):\n",
    "    panels = {}\n",
    "    d = 'U'\n",
    "    x, y = 0, 0\n",
    "    robot = Computer(intcode, inputs)\n",
    "    painting = True\n",
    "\n",
    "    while \"KILL\" not in robot.outputs:\n",
    "        robot.tick()\n",
    "        if robot.outputs and \"KILL\" not in robot.outputs:\n",
    "            if painting:\n",
    "                color = robot.outputs.pop()\n",
    "                panels[(x,y)] = color\n",
    "                painting = False\n",
    "            else:\n",
    "                turn = robot.outputs.pop()\n",
    "                d, x, y = move_robot(d, x, y, turn)\n",
    "                robot.inputs.append(panels.get((x,y), 0))\n",
    "                painting = True\n",
    "    return panels"
   ]
  },
  {
   "cell_type": "code",
   "execution_count": 16,
   "metadata": {},
   "outputs": [],
   "source": [
    "def print_hull(panels):\n",
    "    maxx = -float('inf')\n",
    "    minx = float('inf')\n",
    "    maxy = -float('inf')\n",
    "    miny = float('inf')\n",
    "    for key in panels.keys():\n",
    "        if key[0] > maxx:\n",
    "            maxx = key[0]\n",
    "        if key[0] < minx:\n",
    "            minx = key[0]\n",
    "        if key[1] > maxy:\n",
    "            maxy = key[1]\n",
    "        if key[1] < miny:\n",
    "            miny = key[1]\n",
    "            \n",
    "    for y in range(maxy, miny-1, -1):\n",
    "        for x in range(minx, maxx+1):\n",
    "            if panels.get((x,y), 0):\n",
    "                cprint('▀', 'white', 'on_white', end='')\n",
    "            else: \n",
    "                cprint('▀', 'grey', 'on_grey', end='')\n",
    "        print()"
   ]
  },
  {
   "cell_type": "code",
   "execution_count": 18,
   "metadata": {},
   "outputs": [
    {
     "name": "stdout",
     "output_type": "stream",
     "text": [
      "2016\n",
      "\u001b[40m\u001b[30m▀\u001b[0m\u001b[47m\u001b[37m▀\u001b[0m\u001b[47m\u001b[37m▀\u001b[0m\u001b[47m\u001b[37m▀\u001b[0m\u001b[40m\u001b[30m▀\u001b[0m\u001b[40m\u001b[30m▀\u001b[0m\u001b[40m\u001b[30m▀\u001b[0m\u001b[47m\u001b[37m▀\u001b[0m\u001b[47m\u001b[37m▀\u001b[0m\u001b[40m\u001b[30m▀\u001b[0m\u001b[40m\u001b[30m▀\u001b[0m\u001b[47m\u001b[37m▀\u001b[0m\u001b[47m\u001b[37m▀\u001b[0m\u001b[47m\u001b[37m▀\u001b[0m\u001b[40m\u001b[30m▀\u001b[0m\u001b[40m\u001b[30m▀\u001b[0m\u001b[47m\u001b[37m▀\u001b[0m\u001b[47m\u001b[37m▀\u001b[0m\u001b[47m\u001b[37m▀\u001b[0m\u001b[40m\u001b[30m▀\u001b[0m\u001b[40m\u001b[30m▀\u001b[0m\u001b[40m\u001b[30m▀\u001b[0m\u001b[47m\u001b[37m▀\u001b[0m\u001b[47m\u001b[37m▀\u001b[0m\u001b[40m\u001b[30m▀\u001b[0m\u001b[40m\u001b[30m▀\u001b[0m\u001b[47m\u001b[37m▀\u001b[0m\u001b[47m\u001b[37m▀\u001b[0m\u001b[47m\u001b[37m▀\u001b[0m\u001b[40m\u001b[30m▀\u001b[0m\u001b[40m\u001b[30m▀\u001b[0m\u001b[47m\u001b[37m▀\u001b[0m\u001b[47m\u001b[37m▀\u001b[0m\u001b[47m\u001b[37m▀\u001b[0m\u001b[40m\u001b[30m▀\u001b[0m\u001b[40m\u001b[30m▀\u001b[0m\u001b[47m\u001b[37m▀\u001b[0m\u001b[40m\u001b[30m▀\u001b[0m\u001b[40m\u001b[30m▀\u001b[0m\u001b[47m\u001b[37m▀\u001b[0m\u001b[40m\u001b[30m▀\u001b[0m\u001b[40m\u001b[30m▀\u001b[0m\u001b[40m\u001b[30m▀\u001b[0m\n",
      "\u001b[40m\u001b[30m▀\u001b[0m\u001b[47m\u001b[37m▀\u001b[0m\u001b[40m\u001b[30m▀\u001b[0m\u001b[40m\u001b[30m▀\u001b[0m\u001b[47m\u001b[37m▀\u001b[0m\u001b[40m\u001b[30m▀\u001b[0m\u001b[47m\u001b[37m▀\u001b[0m\u001b[40m\u001b[30m▀\u001b[0m\u001b[40m\u001b[30m▀\u001b[0m\u001b[47m\u001b[37m▀\u001b[0m\u001b[40m\u001b[30m▀\u001b[0m\u001b[47m\u001b[37m▀\u001b[0m\u001b[40m\u001b[30m▀\u001b[0m\u001b[40m\u001b[30m▀\u001b[0m\u001b[47m\u001b[37m▀\u001b[0m\u001b[40m\u001b[30m▀\u001b[0m\u001b[47m\u001b[37m▀\u001b[0m\u001b[40m\u001b[30m▀\u001b[0m\u001b[40m\u001b[30m▀\u001b[0m\u001b[47m\u001b[37m▀\u001b[0m\u001b[40m\u001b[30m▀\u001b[0m\u001b[47m\u001b[37m▀\u001b[0m\u001b[40m\u001b[30m▀\u001b[0m\u001b[40m\u001b[30m▀\u001b[0m\u001b[47m\u001b[37m▀\u001b[0m\u001b[40m\u001b[30m▀\u001b[0m\u001b[47m\u001b[37m▀\u001b[0m\u001b[40m\u001b[30m▀\u001b[0m\u001b[40m\u001b[30m▀\u001b[0m\u001b[47m\u001b[37m▀\u001b[0m\u001b[40m\u001b[30m▀\u001b[0m\u001b[47m\u001b[37m▀\u001b[0m\u001b[40m\u001b[30m▀\u001b[0m\u001b[40m\u001b[30m▀\u001b[0m\u001b[47m\u001b[37m▀\u001b[0m\u001b[40m\u001b[30m▀\u001b[0m\u001b[47m\u001b[37m▀\u001b[0m\u001b[40m\u001b[30m▀\u001b[0m\u001b[40m\u001b[30m▀\u001b[0m\u001b[47m\u001b[37m▀\u001b[0m\u001b[40m\u001b[30m▀\u001b[0m\u001b[40m\u001b[30m▀\u001b[0m\u001b[40m\u001b[30m▀\u001b[0m\n",
      "\u001b[40m\u001b[30m▀\u001b[0m\u001b[47m\u001b[37m▀\u001b[0m\u001b[40m\u001b[30m▀\u001b[0m\u001b[40m\u001b[30m▀\u001b[0m\u001b[47m\u001b[37m▀\u001b[0m\u001b[40m\u001b[30m▀\u001b[0m\u001b[47m\u001b[37m▀\u001b[0m\u001b[40m\u001b[30m▀\u001b[0m\u001b[40m\u001b[30m▀\u001b[0m\u001b[47m\u001b[37m▀\u001b[0m\u001b[40m\u001b[30m▀\u001b[0m\u001b[47m\u001b[37m▀\u001b[0m\u001b[40m\u001b[30m▀\u001b[0m\u001b[40m\u001b[30m▀\u001b[0m\u001b[47m\u001b[37m▀\u001b[0m\u001b[40m\u001b[30m▀\u001b[0m\u001b[47m\u001b[37m▀\u001b[0m\u001b[40m\u001b[30m▀\u001b[0m\u001b[40m\u001b[30m▀\u001b[0m\u001b[47m\u001b[37m▀\u001b[0m\u001b[40m\u001b[30m▀\u001b[0m\u001b[47m\u001b[37m▀\u001b[0m\u001b[40m\u001b[30m▀\u001b[0m\u001b[40m\u001b[30m▀\u001b[0m\u001b[40m\u001b[30m▀\u001b[0m\u001b[40m\u001b[30m▀\u001b[0m\u001b[47m\u001b[37m▀\u001b[0m\u001b[47m\u001b[37m▀\u001b[0m\u001b[47m\u001b[37m▀\u001b[0m\u001b[40m\u001b[30m▀\u001b[0m\u001b[40m\u001b[30m▀\u001b[0m\u001b[47m\u001b[37m▀\u001b[0m\u001b[40m\u001b[30m▀\u001b[0m\u001b[40m\u001b[30m▀\u001b[0m\u001b[47m\u001b[37m▀\u001b[0m\u001b[40m\u001b[30m▀\u001b[0m\u001b[47m\u001b[37m▀\u001b[0m\u001b[47m\u001b[37m▀\u001b[0m\u001b[47m\u001b[37m▀\u001b[0m\u001b[47m\u001b[37m▀\u001b[0m\u001b[40m\u001b[30m▀\u001b[0m\u001b[40m\u001b[30m▀\u001b[0m\u001b[40m\u001b[30m▀\u001b[0m\n",
      "\u001b[40m\u001b[30m▀\u001b[0m\u001b[47m\u001b[37m▀\u001b[0m\u001b[47m\u001b[37m▀\u001b[0m\u001b[47m\u001b[37m▀\u001b[0m\u001b[40m\u001b[30m▀\u001b[0m\u001b[40m\u001b[30m▀\u001b[0m\u001b[47m\u001b[37m▀\u001b[0m\u001b[47m\u001b[37m▀\u001b[0m\u001b[47m\u001b[37m▀\u001b[0m\u001b[47m\u001b[37m▀\u001b[0m\u001b[40m\u001b[30m▀\u001b[0m\u001b[47m\u001b[37m▀\u001b[0m\u001b[47m\u001b[37m▀\u001b[0m\u001b[47m\u001b[37m▀\u001b[0m\u001b[40m\u001b[30m▀\u001b[0m\u001b[40m\u001b[30m▀\u001b[0m\u001b[47m\u001b[37m▀\u001b[0m\u001b[47m\u001b[37m▀\u001b[0m\u001b[47m\u001b[37m▀\u001b[0m\u001b[40m\u001b[30m▀\u001b[0m\u001b[40m\u001b[30m▀\u001b[0m\u001b[47m\u001b[37m▀\u001b[0m\u001b[40m\u001b[30m▀\u001b[0m\u001b[40m\u001b[30m▀\u001b[0m\u001b[40m\u001b[30m▀\u001b[0m\u001b[40m\u001b[30m▀\u001b[0m\u001b[47m\u001b[37m▀\u001b[0m\u001b[40m\u001b[30m▀\u001b[0m\u001b[40m\u001b[30m▀\u001b[0m\u001b[47m\u001b[37m▀\u001b[0m\u001b[40m\u001b[30m▀\u001b[0m\u001b[47m\u001b[37m▀\u001b[0m\u001b[47m\u001b[37m▀\u001b[0m\u001b[47m\u001b[37m▀\u001b[0m\u001b[40m\u001b[30m▀\u001b[0m\u001b[40m\u001b[30m▀\u001b[0m\u001b[47m\u001b[37m▀\u001b[0m\u001b[40m\u001b[30m▀\u001b[0m\u001b[40m\u001b[30m▀\u001b[0m\u001b[47m\u001b[37m▀\u001b[0m\u001b[40m\u001b[30m▀\u001b[0m\u001b[40m\u001b[30m▀\u001b[0m\u001b[40m\u001b[30m▀\u001b[0m\n",
      "\u001b[40m\u001b[30m▀\u001b[0m\u001b[47m\u001b[37m▀\u001b[0m\u001b[40m\u001b[30m▀\u001b[0m\u001b[47m\u001b[37m▀\u001b[0m\u001b[40m\u001b[30m▀\u001b[0m\u001b[40m\u001b[30m▀\u001b[0m\u001b[47m\u001b[37m▀\u001b[0m\u001b[40m\u001b[30m▀\u001b[0m\u001b[40m\u001b[30m▀\u001b[0m\u001b[47m\u001b[37m▀\u001b[0m\u001b[40m\u001b[30m▀\u001b[0m\u001b[47m\u001b[37m▀\u001b[0m\u001b[40m\u001b[30m▀\u001b[0m\u001b[40m\u001b[30m▀\u001b[0m\u001b[40m\u001b[30m▀\u001b[0m\u001b[40m\u001b[30m▀\u001b[0m\u001b[47m\u001b[37m▀\u001b[0m\u001b[40m\u001b[30m▀\u001b[0m\u001b[47m\u001b[37m▀\u001b[0m\u001b[40m\u001b[30m▀\u001b[0m\u001b[40m\u001b[30m▀\u001b[0m\u001b[47m\u001b[37m▀\u001b[0m\u001b[40m\u001b[30m▀\u001b[0m\u001b[40m\u001b[30m▀\u001b[0m\u001b[47m\u001b[37m▀\u001b[0m\u001b[40m\u001b[30m▀\u001b[0m\u001b[47m\u001b[37m▀\u001b[0m\u001b[40m\u001b[30m▀\u001b[0m\u001b[40m\u001b[30m▀\u001b[0m\u001b[47m\u001b[37m▀\u001b[0m\u001b[40m\u001b[30m▀\u001b[0m\u001b[47m\u001b[37m▀\u001b[0m\u001b[40m\u001b[30m▀\u001b[0m\u001b[40m\u001b[30m▀\u001b[0m\u001b[40m\u001b[30m▀\u001b[0m\u001b[40m\u001b[30m▀\u001b[0m\u001b[47m\u001b[37m▀\u001b[0m\u001b[40m\u001b[30m▀\u001b[0m\u001b[40m\u001b[30m▀\u001b[0m\u001b[47m\u001b[37m▀\u001b[0m\u001b[40m\u001b[30m▀\u001b[0m\u001b[40m\u001b[30m▀\u001b[0m\u001b[40m\u001b[30m▀\u001b[0m\n",
      "\u001b[40m\u001b[30m▀\u001b[0m\u001b[47m\u001b[37m▀\u001b[0m\u001b[40m\u001b[30m▀\u001b[0m\u001b[40m\u001b[30m▀\u001b[0m\u001b[47m\u001b[37m▀\u001b[0m\u001b[40m\u001b[30m▀\u001b[0m\u001b[47m\u001b[37m▀\u001b[0m\u001b[40m\u001b[30m▀\u001b[0m\u001b[40m\u001b[30m▀\u001b[0m\u001b[47m\u001b[37m▀\u001b[0m\u001b[40m\u001b[30m▀\u001b[0m\u001b[47m\u001b[37m▀\u001b[0m\u001b[40m\u001b[30m▀\u001b[0m\u001b[40m\u001b[30m▀\u001b[0m\u001b[40m\u001b[30m▀\u001b[0m\u001b[40m\u001b[30m▀\u001b[0m\u001b[47m\u001b[37m▀\u001b[0m\u001b[40m\u001b[30m▀\u001b[0m\u001b[40m\u001b[30m▀\u001b[0m\u001b[47m\u001b[37m▀\u001b[0m\u001b[40m\u001b[30m▀\u001b[0m\u001b[40m\u001b[30m▀\u001b[0m\u001b[47m\u001b[37m▀\u001b[0m\u001b[47m\u001b[37m▀\u001b[0m\u001b[40m\u001b[30m▀\u001b[0m\u001b[40m\u001b[30m▀\u001b[0m\u001b[47m\u001b[37m▀\u001b[0m\u001b[47m\u001b[37m▀\u001b[0m\u001b[47m\u001b[37m▀\u001b[0m\u001b[40m\u001b[30m▀\u001b[0m\u001b[40m\u001b[30m▀\u001b[0m\u001b[47m\u001b[37m▀\u001b[0m\u001b[40m\u001b[30m▀\u001b[0m\u001b[40m\u001b[30m▀\u001b[0m\u001b[40m\u001b[30m▀\u001b[0m\u001b[40m\u001b[30m▀\u001b[0m\u001b[47m\u001b[37m▀\u001b[0m\u001b[40m\u001b[30m▀\u001b[0m\u001b[40m\u001b[30m▀\u001b[0m\u001b[47m\u001b[37m▀\u001b[0m\u001b[40m\u001b[30m▀\u001b[0m\u001b[40m\u001b[30m▀\u001b[0m\u001b[40m\u001b[30m▀\u001b[0m\n"
     ]
    }
   ],
   "source": [
    "from termcolor import cprint\n",
    "\n",
    "%run 'shared/intcode.ipynb'\n",
    "\n",
    "# Main      \n",
    "f = open('assets/11.txt', 'r')\n",
    "intcode = [int(x) for x in f.read().rstrip().split(',')]\n",
    "\n",
    "# Part 1\n",
    "print(len(list(run_robot(intcode[:], [0]))))\n",
    "\n",
    "# Part 2\n",
    "panels = run_robot(intcode[:], [1])\n",
    "print_hull(panels)\n",
    "\n"
   ]
  },
  {
   "cell_type": "code",
   "execution_count": null,
   "metadata": {},
   "outputs": [],
   "source": []
  }
 ],
 "metadata": {
  "kernelspec": {
   "display_name": "Python 3",
   "language": "python",
   "name": "python3"
  },
  "language_info": {
   "codemirror_mode": {
    "name": "ipython",
    "version": 3
   },
   "file_extension": ".py",
   "mimetype": "text/x-python",
   "name": "python",
   "nbconvert_exporter": "python",
   "pygments_lexer": "ipython3",
   "version": "3.7.3"
  }
 },
 "nbformat": 4,
 "nbformat_minor": 2
}

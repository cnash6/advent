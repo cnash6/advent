{
 "cells": [
  {
   "cell_type": "code",
   "execution_count": 1,
   "metadata": {},
   "outputs": [],
   "source": [
    "class Moon:\n",
    "    def __init__(self, position):\n",
    "        self.p = position\n",
    "        self.v = (0,0,0)\n",
    "        self.a = (0,0,0)\n",
    "        \n",
    "    def __str__(self):\n",
    "        return f'Moon{self.p} - v{self.v}'"
   ]
  },
  {
   "cell_type": "code",
   "execution_count": 2,
   "metadata": {},
   "outputs": [],
   "source": [
    "def unit(n):\n",
    "    return 0 if n is 0 else n//abs(n) "
   ]
  },
  {
   "cell_type": "code",
   "execution_count": 3,
   "metadata": {},
   "outputs": [],
   "source": [
    "def update_moons(moons):\n",
    "    for i, moon in enumerate(moons):\n",
    "        moon.a = (0,0,0)\n",
    "        for other in moons[:i] + moons[i+1:]:\n",
    "            moon.a = (moon.a[0] + unit(other.p[0] - moon.p[0]), moon.a[1] + unit(other.p[1] - moon.p[1]), moon.a[2] + unit(other.p[2] - moon.p[2]))\n",
    "    for moon in moons:\n",
    "        moon.v = (moon.v[0] + moon.a[0], moon.v[1] + moon.a[1], moon.v[2] + moon.a[2])\n",
    "        moon.p = (moon.p[0] + moon.v[0], moon.p[1] + moon.v[1], moon.p[2] + moon.v[2])\n",
    "    return moons"
   ]
  },
  {
   "cell_type": "code",
   "execution_count": 69,
   "metadata": {},
   "outputs": [],
   "source": [
    "def single_dimension_returns_to_orig(moons):\n",
    "    c = 1\n",
    "    orig = copy.deepcopy(moons)\n",
    "    moons = simulate_step_for_dimension(moons)\n",
    "    \n",
    "    while not moons_equal(moons, orig):\n",
    "        c+=1\n",
    "        moons = simulate_step_for_dimension(moons)\n",
    "\n",
    "    return c"
   ]
  },
  {
   "cell_type": "code",
   "execution_count": 60,
   "metadata": {},
   "outputs": [],
   "source": [
    "def simulate_step_for_dimension(moons):\n",
    "    a = [0 for x in moons]\n",
    "    for i, moon in enumerate(moons):\n",
    "        for other in moons[:i] + moons[i+1:]:\n",
    "            a[i] = a[i] + unit(other[0] - moon[0])\n",
    "    for i, moon in enumerate(moons):\n",
    "        moon[1] = moon[1] + a[i]\n",
    "        moon[0] = moon[0] + moon[1]\n",
    "    return moons"
   ]
  },
  {
   "cell_type": "code",
   "execution_count": 39,
   "metadata": {},
   "outputs": [],
   "source": [
    "def moons_equal(l1, l2):\n",
    "    return not {tuple(i) for i in l1} ^ {tuple(i) for i in l2}"
   ]
  },
  {
   "cell_type": "code",
   "execution_count": 71,
   "metadata": {},
   "outputs": [
    {
     "name": "stdout",
     "output_type": "stream",
     "text": [
      "8538\n",
      "161428\n",
      "231614\n",
      "108344\n",
      "506359021038056\n"
     ]
    }
   ],
   "source": [
    "from math import gcd\n",
    "from functools import reduce\n",
    "import copy\n",
    "\n",
    "# Main      \n",
    "f = open('assets/12.txt', 'r')\n",
    "moons_in = [Moon((int(y[0].strip()[2:]), int(y[1].strip()[2:]), int(y[2].strip()[2:]))) for y in [x.rstrip()[1:-1].split(',') for x in f]]\n",
    "\n",
    "moons = copy.deepcopy(moons_in)\n",
    "\n",
    "# Part 1\n",
    "N = 1000\n",
    "for n in range(N):\n",
    "    moons = update_moons(moons)\n",
    "    \n",
    "print(sum([(abs(m.p[0])+abs(m.p[1])+abs(m.p[2]))*(abs(m.v[0])+abs(m.v[1])+abs(m.v[2])) for m in moons]))\n",
    "\n",
    "# Part 2\n",
    "moons = copy.deepcopy(moons_in)\n",
    "\n",
    "X = single_dimension_returns_to_orig([[x.p[0], x.v[0]] for x in moons])\n",
    "Y = single_dimension_returns_to_orig([[x.p[1], x.v[1]] for x in moons])\n",
    "Z = single_dimension_returns_to_orig([[x.p[2], x.v[2]] for x in moons])\n",
    "\n",
    "print(reduce(lambda a,b: a*b // gcd(a,b), [X, Y, Z]))\n",
    "\n",
    "\n",
    "    "
   ]
  },
  {
   "cell_type": "code",
   "execution_count": null,
   "metadata": {},
   "outputs": [],
   "source": []
  }
 ],
 "metadata": {
  "kernelspec": {
   "display_name": "Python 3",
   "language": "python",
   "name": "python3"
  },
  "language_info": {
   "codemirror_mode": {
    "name": "ipython",
    "version": 3
   },
   "file_extension": ".py",
   "mimetype": "text/x-python",
   "name": "python",
   "nbconvert_exporter": "python",
   "pygments_lexer": "ipython3",
   "version": "3.7.4"
  }
 },
 "nbformat": 4,
 "nbformat_minor": 2
}

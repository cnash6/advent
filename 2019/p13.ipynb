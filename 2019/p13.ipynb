{
 "cells": [
  {
   "cell_type": "code",
   "execution_count": 27,
   "metadata": {},
   "outputs": [],
   "source": [
    "def build_map(raw):\n",
    "    pixels = [(raw[i], raw[i+1], raw[i+2]) for i in range(0, len(raw)-1, 3)]\n",
    "    return pixels"
   ]
  },
  {
   "cell_type": "code",
   "execution_count": 28,
   "metadata": {},
   "outputs": [
    {
     "name": "stdout",
     "output_type": "stream",
     "text": [
      "[0, 0, 1, 1, 0, 1]\n",
      "[(0, 0, 1), (1, 0, 1)]\n"
     ]
    }
   ],
   "source": [
    "%run 'shared/intcode.ipynb'\n",
    "\n",
    "# Main      \n",
    "f = open('assets/13.txt', 'r')\n",
    "intcode = [int(x) for x in f.read().rstrip().split(',')]\n",
    "\n",
    "c = Computer(intcode)\n",
    "c.run_program()\n",
    "print(c.outputs[:6])\n",
    "print(build_map(c.outputs)[:2])\n"
   ]
  },
  {
   "cell_type": "code",
   "execution_count": null,
   "metadata": {},
   "outputs": [],
   "source": []
  }
 ],
 "metadata": {
  "kernelspec": {
   "display_name": "Python 3",
   "language": "python",
   "name": "python3"
  },
  "language_info": {
   "codemirror_mode": {
    "name": "ipython",
    "version": 3
   },
   "file_extension": ".py",
   "mimetype": "text/x-python",
   "name": "python",
   "nbconvert_exporter": "python",
   "pygments_lexer": "ipython3",
   "version": "3.7.4"
  }
 },
 "nbformat": 4,
 "nbformat_minor": 2
}

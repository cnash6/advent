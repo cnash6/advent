{
 "cells": [
  {
   "cell_type": "code",
   "execution_count": 1,
   "metadata": {},
   "outputs": [],
   "source": [
    "def manhattan(p1, p2):\n",
    "    return abs(p1[0] - p2[0]) + abs(p1[1] - p2[1])"
   ]
  },
  {
   "cell_type": "code",
   "execution_count": 2,
   "metadata": {},
   "outputs": [],
   "source": [
    "def get_visited(wire): # returns visited locations for a wire\n",
    "    location = (0,0)\n",
    "    visited = set()\n",
    "    steps = 0\n",
    "    distance_dict = {}\n",
    "\n",
    "    for move in wire:\n",
    "        direction, length = move[0], int(move[1:])\n",
    "\n",
    "        move_results = {\n",
    "            'U': ([(location[0], location[1]+i, steps+i) for i in range(1, length+1)], (location[0], location[1]+length)),\n",
    "            'D': ([(location[0], location[1]-i, steps+i) for i in range(1, length+1)], (location[0], location[1]-length)),\n",
    "            'L': ([(location[0]-i, location[1], steps+i) for i in range(1, length+1)], (location[0]-length, location[1])),\n",
    "            'R': ([(location[0]+i, location[1], steps+i) for i in range(1, length+1)], (location[0]+length, location[1])),\n",
    "        }\n",
    "\n",
    "        steps+=length\n",
    "        visited_locations, new_location = move_results[direction]\n",
    "        visited |= set(visited_locations)\n",
    "        location = new_location\n",
    "    return visited\n",
    "                \n",
    "        "
   ]
  },
  {
   "cell_type": "code",
   "execution_count": 3,
   "metadata": {},
   "outputs": [],
   "source": [
    "def draw_graph(visited):\n",
    "    print(visited)\n",
    "    \n",
    "    max_x = max([x[0] for x in visited])+1\n",
    "    min_x = min([x[0] for x in visited])-1\n",
    "    max_y = max([x[1] for x in visited])+1\n",
    "    min_y = min([x[1] for x in visited])-1\n",
    "    print(min_x, max_x)\n",
    "    print(min_y, max_y)\n",
    "\n",
    "    for y in range(max_y-min_y+1):\n",
    "        for x in range(max_x-min_x+1):\n",
    "            if (min_x+x,max_y-y) in visited:\n",
    "                print(\"x \", end = '')\n",
    "            else:\n",
    "                print(\". \", end = '')\n",
    "        print()"
   ]
  },
  {
   "cell_type": "code",
   "execution_count": 22,
   "metadata": {},
   "outputs": [
    {
     "name": "stdout",
     "output_type": "stream",
     "text": [
      "806\n",
      "66076\n"
     ]
    }
   ],
   "source": [
    "# Main      \n",
    "f = open('assets/03.txt', 'r')\n",
    "wire1, wire2 = [x.rstrip().split(',') for x in f]\n",
    "\n",
    "# Test1\n",
    "# wire1 = ['R8','U5','L5','D3']\n",
    "# wire2 = ['U7','R6','D4','L4']\n",
    "\n",
    "# Test2\n",
    "# wire1 = ['R75','D30','R83','U83','L12','D49','R71','U7','L72']\n",
    "# wire2 = ['U62','R66','U55','R34','D71','R55','D58','R83']\n",
    "\n",
    "# Test3\n",
    "# wire1 = ['R98','U47','R26','D63','R33','U87','L62','D20','R33','U53','R51']\n",
    "# wire2 = ['U98','R91','D20','R16','D67','R40','U7','R15','U6','R7']\n",
    "\n",
    "\n",
    "visited1 = get_visited(wire1)\n",
    "visited2 = get_visited(wire2)\n",
    "\n",
    "#Part 1\n",
    "intersect = set([(x[0], x[1]) for x in list(visited1)]).intersection(set([(x[0], x[1]) for x in list(visited2)]))\n",
    "print(sorted([(x, manhattan(x, (0,0))) for x in list(intersect)], key=lambda point : point[1])[0][1])\n",
    "\n",
    "#Part 2\n",
    "# Sort descending step counts so smaller counts overwrite larger \n",
    "v1dict = {(x[0], x[1]): x[2] for x in sorted(visited1, key=lambda point: -point[2])} \n",
    "v2dict = {(x[0], x[1]): x[2] for x in sorted(visited2, key=lambda point: -point[2])}\n",
    "\n",
    "print(sorted([v1dict[x]+v2dict[x] for x in list(intersect)])[0])\n",
    "\n",
    "\n",
    "\n"
   ]
  },
  {
   "cell_type": "code",
   "execution_count": null,
   "metadata": {},
   "outputs": [],
   "source": []
  }
 ],
 "metadata": {
  "kernelspec": {
   "display_name": "Python 3",
   "language": "python",
   "name": "python3"
  },
  "language_info": {
   "codemirror_mode": {
    "name": "ipython",
    "version": 3
   },
   "file_extension": ".py",
   "mimetype": "text/x-python",
   "name": "python",
   "nbconvert_exporter": "python",
   "pygments_lexer": "ipython3",
   "version": "3.7.3"
  }
 },
 "nbformat": 4,
 "nbformat_minor": 2
}

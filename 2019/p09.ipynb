{
 "cells": [
  {
   "cell_type": "code",
   "execution_count": 1,
   "metadata": {},
   "outputs": [
    {
     "name": "stdout",
     "output_type": "stream",
     "text": [
      "4288078517\n",
      "69256\n",
      "--- 1.1747450828552246 seconds ---\n"
     ]
    }
   ],
   "source": [
    "import time\n",
    "\n",
    "%run 'shared/intcode.ipynb'\n",
    "\n",
    "# Main      \n",
    "f = open('assets/09.txt', 'r')\n",
    "intcode = [int(x) for x in f.read().rstrip().split(',')]\n",
    "\n",
    "# Part 1\n",
    "c = Computer(intcode[:], [1])\n",
    "c.run_program()\n",
    "print(c.outputs[0])\n",
    "\n",
    "# Part 2\n",
    "start_time = time.time()\n",
    "c = Computer(intcode[:], [2])\n",
    "c.run_program()\n",
    "print(c.outputs[0])\n",
    "print(\"--- %s seconds ---\" % (time.time() - start_time))\n"
   ]
  },
  {
   "cell_type": "code",
   "execution_count": null,
   "metadata": {},
   "outputs": [],
   "source": []
  },
  {
   "cell_type": "code",
   "execution_count": null,
   "metadata": {},
   "outputs": [],
   "source": []
  }
 ],
 "metadata": {
  "kernelspec": {
   "display_name": "Python 3",
   "language": "python",
   "name": "python3"
  },
  "language_info": {
   "codemirror_mode": {
    "name": "ipython",
    "version": 3
   },
   "file_extension": ".py",
   "mimetype": "text/x-python",
   "name": "python",
   "nbconvert_exporter": "python",
   "pygments_lexer": "ipython3",
   "version": "3.7.3"
  }
 },
 "nbformat": 4,
 "nbformat_minor": 2
}

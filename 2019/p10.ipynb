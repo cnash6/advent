{
 "cells": [
  {
   "cell_type": "code",
   "execution_count": 57,
   "metadata": {},
   "outputs": [],
   "source": [
    "def angle(p1, p2):\n",
    "    deg = math.degrees(math.atan2(p2.y-p1.y, p2.x-p1.x))\n",
    "    return 360-deg if deg > 0 else 360-(360+deg)"
   ]
  },
  {
   "cell_type": "code",
   "execution_count": 34,
   "metadata": {},
   "outputs": [],
   "source": [
    "class P: \n",
    "    def __init__(self, x=None, y=None):\n",
    "        self.x = x\n",
    "        self.y = y\n",
    "        \n",
    "    def manhattan(self, other):\n",
    "        return abs(self.x - other.x) + abs(self.y - other.y)\n",
    "    \n",
    "    def __str__(self):\n",
    "        return f'P({self.x},{self.y})'"
   ]
  },
  {
   "cell_type": "code",
   "execution_count": 64,
   "metadata": {},
   "outputs": [
    {
     "name": "stdout",
     "output_type": "stream",
     "text": [
      "best:P(22,28) - 326\n",
      "1623\n"
     ]
    }
   ],
   "source": [
    "import math\n",
    "import sys\n",
    "\n",
    "# Main      \n",
    "f = open('assets/10.txt', 'r')\n",
    "a_map = [[y for y in x.rstrip()] for x in f]\n",
    "\n",
    "asteroids = [P(x,y) for y in range(len(a_map)) for x in range(len(a_map[y])) if a_map[y][x] is '#']\n",
    "\n",
    "best = (None, -1)\n",
    "\n",
    "for asteroid in asteroids:\n",
    "    angles = []\n",
    "    for other in asteroids:\n",
    "        if other is not asteroid:\n",
    "            a = angle(asteroid, other)\n",
    "            if a not in angles:\n",
    "                angles.append(a)\n",
    "    if best[1] < len(angles):\n",
    "        best = (asteroid, len(angles))\n",
    "            \n",
    "print(f'best:{best[0]} - {best[1]}')\n",
    "\n",
    "station = best[0]\n",
    "firing_angle = 90.00000000000001 # gotta be good enough, right?\n",
    "asteroids.remove(station)\n",
    "count = 0\n",
    "\n",
    "targets = sorted([(angle(station, x), station.manhattan(x), x) for x in asteroids], key=lambda a: (-a[0], a[1]))\n",
    "\n",
    "while count < 200: \n",
    "    count+=1\n",
    "    i = next((x for x in range(len(targets)) if targets[x][0] < firing_angle), 0)\n",
    "    firing_angle = targets[i][0]\n",
    "    last = targets.pop(i)[2]\n",
    "\n",
    "print((last.x*100)+last.y)"
   ]
  },
  {
   "cell_type": "code",
   "execution_count": null,
   "metadata": {},
   "outputs": [],
   "source": []
  }
 ],
 "metadata": {
  "kernelspec": {
   "display_name": "Python 3",
   "language": "python",
   "name": "python3"
  },
  "language_info": {
   "codemirror_mode": {
    "name": "ipython",
    "version": 3
   },
   "file_extension": ".py",
   "mimetype": "text/x-python",
   "name": "python",
   "nbconvert_exporter": "python",
   "pygments_lexer": "ipython3",
   "version": "3.7.3"
  }
 },
 "nbformat": 4,
 "nbformat_minor": 2
}

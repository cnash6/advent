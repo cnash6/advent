{
 "cells": [
  {
   "cell_type": "code",
   "execution_count": 25,
   "metadata": {},
   "outputs": [],
   "source": [
    "def tick(registers, i):\n",
    "    op = registers[i]\n",
    "    if op == 1: # add\n",
    "        registers[registers[i+3]] = registers[registers[i+1]] + registers[registers[i+2]]\n",
    "    elif op == 2: # multiply\n",
    "        registers[registers[i+3]] = registers[registers[i+1]] * registers[registers[i+2]]\n",
    "    elif op == 99: # kill\n",
    "        return registers, False\n",
    "    else:\n",
    "        print('error!')\n",
    "    return registers, True\n",
    "    "
   ]
  },
  {
   "cell_type": "code",
   "execution_count": 22,
   "metadata": {},
   "outputs": [],
   "source": [
    "def run_program(registers):\n",
    "    running = True\n",
    "    i = 0\n",
    "    while(running):\n",
    "        registers, running = tick(registers, i)\n",
    "        i+=4\n",
    "    return registers"
   ]
  },
  {
   "cell_type": "code",
   "execution_count": 32,
   "metadata": {},
   "outputs": [],
   "source": [
    "def test_programs(registers, target):\n",
    "    for i in range(100):\n",
    "        for j in range(100):\n",
    "            r = registers[:]\n",
    "            r[1], r[2] = i, j\n",
    "            output = run_program(r)\n",
    "            \n",
    "            if r[0] == target:\n",
    "                return i,j\n",
    "    return \"failed\""
   ]
  },
  {
   "cell_type": "code",
   "execution_count": 33,
   "metadata": {},
   "outputs": [
    {
     "name": "stdout",
     "output_type": "stream",
     "text": [
      "5866714\n",
      "5208\n"
     ]
    }
   ],
   "source": [
    "# Main\n",
    "f = open('./assets/02.txt', 'r')\n",
    "registers = [int(x) for x in f.read().rstrip().split(',')]\n",
    "\n",
    "PART_2_TARGET = 19690720\n",
    "\n",
    "\n",
    "#Part 1\n",
    "p1r = registers[:]\n",
    "p1r[1] = 12\n",
    "p1r[2] = 2\n",
    "print(run_program(p1r)[0])\n",
    "\n",
    "#Part 2\n",
    "p2r = registers[:]\n",
    "n,v = test_programs(p2r, PART_2_TARGET)\n",
    "print(100*n+v)\n",
    "\n"
   ]
  },
  {
   "cell_type": "code",
   "execution_count": null,
   "metadata": {},
   "outputs": [],
   "source": []
  }
 ],
 "metadata": {
  "kernelspec": {
   "display_name": "Python 3",
   "language": "python",
   "name": "python3"
  },
  "language_info": {
   "codemirror_mode": {
    "name": "ipython",
    "version": 3
   },
   "file_extension": ".py",
   "mimetype": "text/x-python",
   "name": "python",
   "nbconvert_exporter": "python",
   "pygments_lexer": "ipython3",
   "version": "3.7.3"
  }
 },
 "nbformat": 4,
 "nbformat_minor": 2
}

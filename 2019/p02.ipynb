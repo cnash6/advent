{
 "cells": [
  {
   "cell_type": "code",
   "execution_count": 1,
   "metadata": {},
   "outputs": [],
   "source": [
    "def test_programs(registers, target):\n",
    "    for i in range(100):\n",
    "        for j in range(100):\n",
    "            r = registers[:]\n",
    "            r[1], r[2] = i, j\n",
    "            c = Computer(r)\n",
    "            output = c.run_program()\n",
    "            \n",
    "            if r[0] == target:\n",
    "                return i,j\n",
    "    return \"failed\""
   ]
  },
  {
   "cell_type": "code",
   "execution_count": 34,
   "metadata": {},
   "outputs": [
    {
     "name": "stdout",
     "output_type": "stream",
     "text": [
      "5866714\n",
      "5208\n"
     ]
    }
   ],
   "source": [
    "%run 'shared/intcode.ipynb'\n",
    "\n",
    "# Main\n",
    "f = open('assets/02.txt', 'r')\n",
    "registers = [int(x) for x in f.read().rstrip().split(',')]\n",
    "\n",
    "PART_2_TARGET = 19690720\n",
    "\n",
    "\n",
    "#Part 1\n",
    "p1r = registers[:]\n",
    "p1r[1] = 12\n",
    "p1r[2] = 2\n",
    "\n",
    "c1 = Computer(p1r)\n",
    "print(c1.run_program()[0])\n",
    "\n",
    "#Part 2\n",
    "p2r = registers[:]\n",
    "n,v = test_programs(p2r, PART_2_TARGET)\n",
    "print(100*n+v)\n",
    "\n"
   ]
  },
  {
   "cell_type": "code",
   "execution_count": null,
   "metadata": {},
   "outputs": [],
   "source": []
  },
  {
   "cell_type": "code",
   "execution_count": null,
   "metadata": {},
   "outputs": [],
   "source": []
  }
 ],
 "metadata": {
  "kernelspec": {
   "display_name": "Python 3",
   "language": "python",
   "name": "python3"
  },
  "language_info": {
   "codemirror_mode": {
    "name": "ipython",
    "version": 3
   },
   "file_extension": ".py",
   "mimetype": "text/x-python",
   "name": "python",
   "nbconvert_exporter": "python",
   "pygments_lexer": "ipython3",
   "version": "3.7.3"
  }
 },
 "nbformat": 4,
 "nbformat_minor": 2
}

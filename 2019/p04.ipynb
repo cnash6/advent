{
 "cells": [
  {
   "cell_type": "code",
   "execution_count": 3,
   "metadata": {},
   "outputs": [],
   "source": [
    "def ascending(testnum):\n",
    "    return str(testnum) == \"\".join(sorted([x for x in str(testnum)]))"
   ]
  },
  {
   "cell_type": "code",
   "execution_count": 41,
   "metadata": {},
   "outputs": [],
   "source": [
    "def has_double(testnum):\n",
    "    return bool(re.search(r'(\\d)\\1{1}',str(testnum)))"
   ]
  },
  {
   "cell_type": "code",
   "execution_count": 68,
   "metadata": {},
   "outputs": [],
   "source": [
    "def has_exclusive_doubles(testnum):\n",
    "    return any([len(x.group())==2 for x in re.finditer(r'(\\d)\\1+',str(testnum))])"
   ]
  },
  {
   "cell_type": "code",
   "execution_count": 69,
   "metadata": {},
   "outputs": [
    {
     "name": "stdout",
     "output_type": "stream",
     "text": [
      "True\n",
      "False\n",
      "True\n",
      "475\n",
      "297\n"
     ]
    }
   ],
   "source": [
    "import re\n",
    "\n",
    "# Main      \n",
    "f = open('assets/04.txt', 'r')\n",
    "LOWER,HIGHER = [int(x) for x in f.read().rstrip().split('-')]\n",
    "\n",
    "# Part 1\n",
    "print(sum([1 for x in range(LOWER, HIGHER+1) if (ascending(x) and has_double(x))]))\n",
    "\n",
    "# Part 2\n",
    "print(sum([1 for x in range(LOWER, HIGHER+1) if (ascending(x) and has_exclusive_doubles(x))]))"
   ]
  },
  {
   "cell_type": "code",
   "execution_count": null,
   "metadata": {},
   "outputs": [],
   "source": []
  }
 ],
 "metadata": {
  "file_extension": ".py",
  "kernelspec": {
   "display_name": "Python 3",
   "language": "python",
   "name": "python3"
  },
  "language_info": {
   "codemirror_mode": {
    "name": "ipython",
    "version": 3
   },
   "file_extension": ".py",
   "mimetype": "text/x-python",
   "name": "python",
   "nbconvert_exporter": "python",
   "pygments_lexer": "ipython3",
   "version": "3.7.3"
  },
  "mimetype": "text/x-python",
  "name": "python",
  "npconvert_exporter": "python",
  "pygments_lexer": "ipython3",
  "version": 3
 },
 "nbformat": 4,
 "nbformat_minor": 2
}

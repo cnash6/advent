{
 "cells": [
  {
   "cell_type": "code",
   "execution_count": 34,
   "metadata": {},
   "outputs": [
    {
     "name": "stdout",
     "output_type": "stream",
     "text": [
      "in - [3, 225]\n",
      "output! 0 - [104, 0]\n",
      "output! 0 - [4, 224]\n",
      "output! 0 - [4, 224]\n",
      "output! 0 - [4, 224]\n",
      "output! 0 - [4, 224]\n",
      "output! 0 - [4, 224]\n",
      "output! 0 - [4, 224]\n",
      "output! 0 - [4, 224]\n",
      "output! 0 - [4, 224]\n",
      "output! 13294380 - [4, 223]\n",
      "KILL\n",
      "diagnostic code: 13294380\n",
      "\n",
      "in - [3, 225]\n",
      "output! 11460760 - [4, 223]\n",
      "KILL\n",
      "diagnostic code: 11460760\n"
     ]
    }
   ],
   "source": [
    "%run 'shared/intcode.ipynb'\n",
    "\n",
    "# Main      \n",
    "f = open('assets/05.txt', 'r')\n",
    "intcode = [int(x) for x in f.read().rstrip().split(',')]\n",
    "\n",
    "# Part 1\n",
    "inputs = [1]\n",
    "c1 = Computer(intcode[:], inputs)\n",
    "c1.run_program()\n",
    "if c1.outputs[-1] == \"KILL\":\n",
    "    print(f'diagnostic code: {c1.outputs[-2]}\\n')\n",
    "else:\n",
    "    print('program failed')\n",
    "\n",
    "# Part 2\n",
    "inputs = [5]\n",
    "c2 = Computer(intcode[:], inputs)\n",
    "c2.run_program()\n",
    "if c2.outputs[-1] == \"KILL\":\n",
    "    print(f'diagnostic code: {c2.outputs[-2]}')\n",
    "else:\n",
    "    print('program failed')\n",
    "    \n",
    "    "
   ]
  },
  {
   "cell_type": "code",
   "execution_count": null,
   "metadata": {},
   "outputs": [],
   "source": []
  },
  {
   "cell_type": "code",
   "execution_count": null,
   "metadata": {},
   "outputs": [],
   "source": []
  }
 ],
 "metadata": {
  "kernelspec": {
   "display_name": "Python 3",
   "language": "python",
   "name": "python3"
  },
  "language_info": {
   "codemirror_mode": {
    "name": "ipython",
    "version": 3
   },
   "file_extension": ".py",
   "mimetype": "text/x-python",
   "name": "python",
   "nbconvert_exporter": "python",
   "pygments_lexer": "ipython3",
   "version": "3.7.3"
  }
 },
 "nbformat": 4,
 "nbformat_minor": 2
}

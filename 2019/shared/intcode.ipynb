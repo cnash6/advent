{
 "cells": [
  {
   "cell_type": "code",
   "execution_count": 21,
   "metadata": {},
   "outputs": [],
   "source": [
    "class Computer:\n",
    "    \n",
    "    def __init__(self, state):\n",
    "        self.state = state\n",
    "\n",
    "    def add(self, s, i):\n",
    "        s[s[i+3]] = s[s[i+1]] + s[s[i+2]]\n",
    "        return s, i+4, True\n",
    "    \n",
    "    def multiply(self, s, i):\n",
    "        s[s[i+3]] = s[s[i+1]] * s[s[i+2]]\n",
    "        return s, i+4, True\n",
    "        \n",
    "    def kill(self, s, i):\n",
    "        return s, i, False\n",
    "                              \n",
    "    def fail(self):\n",
    "        print(\"Error running program!\")\n",
    "        return s, i, False\n",
    "    \n",
    "    operations = {\n",
    "        1: add,\n",
    "        2: multiply,\n",
    "        99: kill\n",
    "    }\n",
    "    \n",
    "    def tick(self, state, i):\n",
    "        op = state[i]\n",
    "        return self.operations.get(op, self.fail)(self, state, i)\n",
    "    \n",
    "    def run_program(self):\n",
    "        running = True\n",
    "        i = 0\n",
    "        while(running):\n",
    "            self.state, i, running = self.tick(self.state, i)\n",
    "        return self.state\n",
    "    "
   ]
  }
 ],
 "metadata": {
  "kernelspec": {
   "display_name": "Python 3",
   "language": "python",
   "name": "python3"
  },
  "language_info": {
   "codemirror_mode": {
    "name": "ipython",
    "version": 3
   },
   "file_extension": ".py",
   "mimetype": "text/x-python",
   "name": "python",
   "nbconvert_exporter": "python",
   "pygments_lexer": "ipython3",
   "version": "3.7.3"
  }
 },
 "nbformat": 4,
 "nbformat_minor": 2
}
